{
 "cells": [
  {
   "cell_type": "markdown",
   "id": "7264bfc0",
   "metadata": {},
   "source": [
    "# Column-shift of superpositions"
   ]
  },
  {
   "cell_type": "code",
   "execution_count": 1,
   "id": "021e0b0a",
   "metadata": {},
   "outputs": [],
   "source": [
    "import math\n",
    "import matplotlib.pyplot as plt\n",
    "\n",
    "from qiskit import ClassicalRegister, QuantumRegister, QuantumCircuit, Aer, execute, BasicAer\n",
    "from qiskit.visualization import plot_histogram\n",
    "from qiskit.circuit.library import MCMT, RYGate, RZGate, XGate, MCXGate, SwapGate"
   ]
  },
  {
   "cell_type": "markdown",
   "id": "fa88b76b",
   "metadata": {},
   "source": [
    "### Increment by one circuit"
   ]
  },
  {
   "cell_type": "code",
   "execution_count": 2,
   "id": "56f65126",
   "metadata": {},
   "outputs": [],
   "source": [
    "'''\n",
    "Returns a quantum circuit that increments a value by one (i.e., 001 -> 010)\n",
    "    - value_register_size : the size of the register encoding a given value\n",
    "'''\n",
    "\n",
    "def inc_by_one(value_register_size: int, name='inc_by_one') -> QuantumCircuit:\n",
    "    value_register = QuantumRegister(value_register_size, 'value_register')\n",
    "    one = QuantumRegister(1, 'one')\n",
    "    qc = QuantumCircuit(value_register, one, name=name)\n",
    "\n",
    "    for i in range(len(value_register)-1):\n",
    "        qc.cx(one, value_register[i]) \n",
    "        for p in reversed(range(i)):\n",
    "            qc.x(value_register[p])\n",
    "        qc.append(MCXGate(num_ctrl_qubits=len(value_register[:i])+1), value_register[:i+1]+one[0:])\n",
    "        for p in reversed(range(i)):\n",
    "            qc.x(value_register[p])\n",
    "\n",
    "    qc.cx(one, value_register[-1])\n",
    "    qc.x(one)\n",
    "\n",
    "    for p in range(len(value_register)-1):\n",
    "        qc.x(value_register[p])\n",
    "    qc.append(MCXGate(num_ctrl_qubits=len(value_register)-1), value_register[:-1]+one[0:])\n",
    "    for p in range(len(value_register)-1):\n",
    "        qc.x(value_register[p])\n",
    "    \n",
    "    return qc.to_gate()"
   ]
  },
  {
   "cell_type": "markdown",
   "id": "fa679def",
   "metadata": {},
   "source": [
    "### Switch Address"
   ]
  },
  {
   "cell_type": "code",
   "execution_count": 3,
   "id": "1b410e70",
   "metadata": {},
   "outputs": [],
   "source": [
    "'''\n",
    "Returns a quantum circuit that targets a specific superposition.\n",
    "    - address_value: the address to access.\n",
    "    - addr_register_size: the register size encoding address_value\n",
    "'''\n",
    "\n",
    "def address_switcher(address: int, addr_register_size: int) -> QuantumCircuit:    \n",
    "    address_register = QuantumRegister(addr_register_size, 'address_index')\n",
    "    address_circuit = QuantumCircuit(address_register, name='address:'+str(address))\n",
    "    \n",
    "    bin_str_pattern = '{:0%sb}' % len(address_register)\n",
    "    address_string = bin_str_pattern.format(address)[::-1]\n",
    "    for idx, bit in enumerate(address_string):\n",
    "        if not int(bit):\n",
    "            address_circuit.x(address_register[idx])\n",
    "    return address_circuit"
   ]
  },
  {
   "cell_type": "markdown",
   "id": "ce43d040",
   "metadata": {},
   "source": [
    "## Encode a value"
   ]
  },
  {
   "cell_type": "code",
   "execution_count": 4,
   "id": "c4a24cbf",
   "metadata": {},
   "outputs": [],
   "source": [
    "'''\n",
    "Returns a quantum circuit that encodes a value in a specific superposition of addresses.\n",
    "    - address_value: the address to access.\n",
    "    - addr_size: the register size encoding address_value\n",
    "'''\n",
    "\n",
    "def encode_value(address: int, addr_register_size: int, value: str, value_register_size: int) -> QuantumCircuit:\n",
    "    address_register = QuantumRegister(addr_register_size, 'address_index')\n",
    "    value_register = QuantumRegister(value_register_size, 'value_register')\n",
    "    value_qc = QuantumCircuit(address_register, value_register, name=value)\n",
    "    \n",
    "    value_qc.append(address_switcher(address, len(address_register)), address_register[0:])\n",
    "    for pos, bit in zip(range(len(value)), value[::-1]):\n",
    "        if int(bit):\n",
    "            value_qc.append(MCXGate(num_ctrl_qubits=len(address_register)), address_register[0:]+[value_register[pos]] )\n",
    "    value_qc.append(address_switcher(address, len(address_register)), address_register[0:])\n",
    "    return value_qc\n"
   ]
  },
  {
   "cell_type": "markdown",
   "id": "ba66839c",
   "metadata": {},
   "source": [
    "## Encode a dataset according binary encoding"
   ]
  },
  {
   "cell_type": "code",
   "execution_count": 5,
   "id": "f8017c9e",
   "metadata": {},
   "outputs": [],
   "source": [
    "'''\n",
    "Returns a quantum circuit that encodes a dataset of binary values.\n",
    "    - dataset: the dataset of binary values\n",
    "'''\n",
    "\n",
    "def get_dataset_circuit(dataset: list[str]) -> QuantumCircuit:\n",
    "    address_register = QuantumRegister(int(math.ceil(math.log(len(dataset)))), 'addr_index')\n",
    "    value_register = QuantumRegister(len(dataset[0]), 'data')\n",
    "    qc_dataset = QuantumCircuit(address_register, value_register, name='dataset')\n",
    "    \n",
    "    qc_dataset.barrier()\n",
    "    for address, value in zip(range(len(dataset)), dataset):\n",
    "        qc_dataset.append(encode_value(address, len(address_register), value, len(value_register)), address_register[0:]+value_register[0:])\n",
    "        qc_dataset.barrier()\n",
    "\n",
    "    return qc_dataset "
   ]
  },
  {
   "cell_type": "markdown",
   "id": "428b0903",
   "metadata": {},
   "source": [
    "## Main"
   ]
  },
  {
   "cell_type": "code",
   "execution_count": 6,
   "id": "2d54ce3e",
   "metadata": {},
   "outputs": [],
   "source": [
    "## Set Parameters\n",
    "dataset = ['111', '100', '000', '110']\n",
    "\n",
    "# set the column to circular-shift\n",
    "column_to_shift = 1"
   ]
  },
  {
   "cell_type": "code",
   "execution_count": null,
   "id": "ecfeddb5",
   "metadata": {},
   "outputs": [],
   "source": [
    "addr_register_temp = QuantumRegister(int(math.ceil(math.log(len(dataset)))), 'addr_temp')\n",
    "value_register_temp = QuantumRegister(len(dataset[0]), 'value_temp')\n",
    "\n",
    "addr_register = QuantumRegister(int(math.ceil(math.log(len(dataset)))), 'addr')\n",
    "value_register = QuantumRegister(len(dataset[0]), 'value')\n",
    "\n",
    "classical_addr = ClassicalRegister(len(addr_register), 'classical_addr')\n",
    "classical_value = ClassicalRegister(len(value_register), 'classical_value')\n",
    "\n",
    "one = QuantumRegister(1, 'one')\n",
    "\n",
    "qc = QuantumCircuit(one,\n",
    "                    addr_register_temp,\n",
    "                    value_register_temp,\n",
    "                    addr_register,\n",
    "                    value_register,\n",
    "                    classical_value,\n",
    "                    classical_addr)\n",
    "\n",
    "\n",
    "qc.x(one) # set to 1 variable 'one'\n",
    "qc.barrier()\n",
    "qc.h(addr_register_temp) # create superposition of addresses\n",
    "\n",
    "qc.append(get_dataset_circuit(dataset), addr_register_temp[0:]+value_register_temp[0:]) # append dataset circuit\n",
    "\n",
    "qc.barrier()\n",
    "\n",
    "qc.append(inc_by_one(len(addr_register_temp)), addr_register_temp[0:]+[one[0]]) # increment_by_one\n",
    "for pos in range(len(addr_register_temp)): # copy superposition of incremented addresses to address_register_2\n",
    "    qc.cx(addr_register_temp[pos],addr_register[pos])\n",
    "qc.append(inc_by_one(len(addr_register_temp)).reverse_ops(), addr_register_temp[0:]+[one[0]]) # undo-increment_by_one\n",
    "\n",
    "qc.barrier()\n",
    "\n",
    "qc.append(get_dataset_circuit(dataset), addr_register[0:]+value_register[0:]) # append dataset circuit\n",
    "\n",
    "qc.barrier()\n",
    "\n",
    "qc.swap(value_register_temp[column_to_shift], value_register[column_to_shift])  # column-shift\n",
    "\n",
    "qc.barrier()\n",
    "\n",
    "qc.measure(addr_register, classical_addr)\n",
    "qc.measure(value_register, classical_value)\n",
    "\n",
    "qc.draw('mpl')"
   ]
  },
  {
   "cell_type": "code",
   "execution_count": null,
   "id": "90a4c873",
   "metadata": {},
   "outputs": [],
   "source": [
    "#INPUT: dataset = [00:'111', 01:'100', 10:'000', 11:110']\n",
    "#EXPECTED_OUTPUT: dataset_column_middle_shift = [00:'111', 01:'110', 10:'000', 11:'100']\n",
    "\n",
    "simulator = Aer.get_backend('qasm_simulator')\n",
    "result = execute(qc, simulator, shots=8192).result()\n",
    "counts = result.get_counts(qc)\n",
    "\n",
    "plot_histogram(counts)"
   ]
  },
  {
   "cell_type": "code",
   "execution_count": null,
   "id": "7ba6e48c",
   "metadata": {},
   "outputs": [],
   "source": []
  }
 ],
 "metadata": {
  "kernelspec": {
   "display_name": "Python 3 (ipykernel)",
   "language": "python",
   "name": "python3"
  },
  "language_info": {
   "codemirror_mode": {
    "name": "ipython",
    "version": 3
   },
   "file_extension": ".py",
   "mimetype": "text/x-python",
   "name": "python",
   "nbconvert_exporter": "python",
   "pygments_lexer": "ipython3",
   "version": "3.9.7"
  }
 },
 "nbformat": 4,
 "nbformat_minor": 5
}
